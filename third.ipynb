{
  "nbformat": 4,
  "nbformat_minor": 0,
  "metadata": {
    "colab": {
      "provenance": []
    },
    "kernelspec": {
      "name": "python3",
      "display_name": "Python 3"
    },
    "language_info": {
      "name": "python"
    }
  },
  "cells": [
    {
      "cell_type": "code",
      "execution_count": null,
      "metadata": {
        "colab": {
          "base_uri": "https://localhost:8080/"
        },
        "id": "hIFk4d4Q1jx7",
        "outputId": "729330e8-bc3f-45a6-e7e8-1d68cb6de5ee"
      },
      "outputs": [
        {
          "output_type": "stream",
          "name": "stdout",
          "text": [
            "Requirement already satisfied: nltk in /usr/local/lib/python3.10/dist-packages (3.8.1)\n",
            "Requirement already satisfied: click in /usr/local/lib/python3.10/dist-packages (from nltk) (8.1.7)\n",
            "Requirement already satisfied: joblib in /usr/local/lib/python3.10/dist-packages (from nltk) (1.4.2)\n",
            "Requirement already satisfied: regex>=2021.8.3 in /usr/local/lib/python3.10/dist-packages (from nltk) (2024.9.11)\n",
            "Requirement already satisfied: tqdm in /usr/local/lib/python3.10/dist-packages (from nltk) (4.66.5)\n"
          ]
        },
        {
          "output_type": "stream",
          "name": "stderr",
          "text": [
            "[nltk_data] Downloading package punkt to /root/nltk_data...\n",
            "[nltk_data]   Unzipping tokenizers/punkt.zip.\n"
          ]
        },
        {
          "output_type": "stream",
          "name": "stdout",
          "text": [
            "Welcome to the Castle Swimmer Chatbot! Ask me anything about Castle Swimmer or its characters.\n",
            "\n",
            "You: King\n",
            "Chatbot: I'm sorry, I don't have an answer for that. Could you ask something else about Castle Swimmer?\n"
          ]
        }
      ],
      "source": [
        "!pip install nltk\n",
        "import nltk\n",
        "from nltk.tokenize import word_tokenize\n",
        "\n",
        "# Download necessary resources\n",
        "nltk.download('punkt')\n",
        "\n",
        "# Sample answers for the chatbot\n",
        "knowledge_base = {\n",
        "    \"castle swimmer\": \"Castle Swimmer is a webcomic that follows Kappa, a young merman, who is destined to fulfill various prophecies. His life takes a turn when he meets Siren, a prince who must kill Kappa to break a curse on his people.\",\n",
        "    \"main characters\": \"The main characters of Castle Swimmer include Kappa, the Beacon, who is the subject of various prophecies, and Siren, a prince who must make a difficult choice to save his people.\",\n",
        "    \"kappa\": \"Kappa is the Beacon, a merman destined to fulfill prophecies, and one of the main characters in Castle Swimmer.\",\n",
        "    \"siren\": \"Siren is the prince of a cursed kingdom, tasked with killing Kappa to save his people.\",\n",
        "    \"prophecy\": \"The prophecy in Castle Swimmer states that Kappa, the Beacon, must fulfill certain events to bring salvation or destruction to different underwater kingdoms.\",\n",
        "    \"chapter 83-89\": \"Chapters 83 to 89 of Castle Swimmer continue to explore the complex relationship between Kappa and Siren, revealing new twists in the prophecy and deepening the emotional conflict between the characters.\",\n",
        "    \"plot\": \"The plot of Castle Swimmer revolves around Kappa, a young merman destined to fulfill various prophecies, and his interactions with underwater kingdoms, especially Siren, a prince tasked with killing him.\"\n",
        "}\n",
        "\n",
        "# Function to handle user input and return responses\n",
        "def chatbot_response(user_input):\n",
        "    # Tokenize the user input\n",
        "    tokens = word_tokenize(user_input.lower())\n",
        "\n",
        "    # Check for keywords in the user's input\n",
        "    for token in tokens:\n",
        "        if token in knowledge_base:\n",
        "            return knowledge_base[token]\n",
        "\n",
        "    # Default response if no keywords match\n",
        "    return \"I'm sorry, I don't have an answer for that. Could you ask something else about Castle Swimmer?\"\n",
        "\n",
        "# Main loop for interacting with the chatbot\n",
        "def chat():\n",
        "    print(\"Welcome to the Castle Swimmer Chatbot! Ask me anything about Castle Swimmer or its characters.\")\n",
        "    while True:\n",
        "        user_input = input(\"\\nYou: \")\n",
        "        if user_input.lower() == \"exit\":\n",
        "            print(\"Goodbye!\")\n",
        "            break\n",
        "        response = chatbot_response(user_input)\n",
        "        print(f\"Chatbot: {response}\")\n",
        "\n",
        "# Run the chatbot\n",
        "if __name__ == \"__main__\":\n",
        "    chat()\n",
        "\n"
      ]
    }
  ]
}