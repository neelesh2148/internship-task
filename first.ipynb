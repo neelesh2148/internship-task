{
  "nbformat": 4,
  "nbformat_minor": 0,
  "metadata": {
    "colab": {
      "provenance": []
    },
    "kernelspec": {
      "name": "python3",
      "display_name": "Python 3"
    },
    "language_info": {
      "name": "python"
    }
  },
  "cells": [
    {
      "cell_type": "code",
      "execution_count": 2,
      "metadata": {
        "colab": {
          "base_uri": "https://localhost:8080/"
        },
        "id": "hIFk4d4Q1jx7",
        "outputId": "acd877c8-123e-40e0-f562-29d8022c84e2"
      },
      "outputs": [
        {
          "output_type": "stream",
          "name": "stdout",
          "text": [
            "Requirement already satisfied: scikit-learn in /usr/local/lib/python3.10/dist-packages (1.5.2)\n",
            "Requirement already satisfied: numpy>=1.19.5 in /usr/local/lib/python3.10/dist-packages (from scikit-learn) (1.26.4)\n",
            "Requirement already satisfied: scipy>=1.6.0 in /usr/local/lib/python3.10/dist-packages (from scikit-learn) (1.13.1)\n",
            "Requirement already satisfied: joblib>=1.2.0 in /usr/local/lib/python3.10/dist-packages (from scikit-learn) (1.4.2)\n",
            "Requirement already satisfied: threadpoolctl>=3.1.0 in /usr/local/lib/python3.10/dist-packages (from scikit-learn) (3.5.0)\n",
            "Classification Report:\n",
            "               precision    recall  f1-score   support\n",
            "\n",
            "      action       0.50      0.33      0.40         3\n",
            "     fantasy       1.00      0.50      0.67         2\n",
            "     romance       0.00      0.00      0.00         1\n",
            "\n",
            "    accuracy                           0.33         6\n",
            "   macro avg       0.50      0.28      0.36         6\n",
            "weighted avg       0.58      0.33      0.42         6\n",
            "\n"
          ]
        }
      ],
      "source": [
        "!pip install scikit-learn\n",
        "\n",
        "# Importing necessary libraries\n",
        "import numpy as np\n",
        "from sklearn.feature_extraction.text import TfidfVectorizer\n",
        "from sklearn.model_selection import train_test_split\n",
        "from sklearn.tree import DecisionTreeClassifier\n",
        "from sklearn.metrics import classification_report\n",
        "\n",
        "# Create the dataset\n",
        "data = [\n",
        "    {\"description\": \"A high school girl tries to hide her insecurities with makeup while navigating romance.\", \"genre\": \"romance\"},\n",
        "    {\"description\": \"A young man discovers he has superpowers and must fight to protect the city.\", \"genre\": \"action\"},\n",
        "    {\"description\": \"A magical kingdom where the hero must find ancient relics to stop the dark forces.\", \"genre\": \"fantasy\"},\n",
        "    {\"description\": \"Two students fall in love while overcoming their past traumas.\", \"genre\": \"romance\"},\n",
        "    {\"description\": \"A team of heroes unites to fight against an alien invasion.\", \"genre\": \"action\"},\n",
        "    {\"description\": \"A young girl navigates the challenges of being a princess in a world of dragons.\", \"genre\": \"fantasy\"},\n",
        "    {\"description\": \"A couple faces challenges as they enter adulthood and start their lives together.\", \"genre\": \"romance\"},\n",
        "    {\"description\": \"The protagonist enters a virtual world where they must battle monsters to survive.\", \"genre\": \"fantasy\"},\n",
        "    {\"description\": \"A secret agent must prevent a criminal organization from unleashing chaos.\", \"genre\": \"action\"},\n",
        "    {\"description\": \"Two people fall in love despite the obstacles posed by their families.\", \"genre\": \"romance\"},\n",
        "    {\"description\": \"A martial artist takes on a deadly tournament to become the ultimate fighter.\", \"genre\": \"action\"},\n",
        "    {\"description\": \"A group of rebels fights against a tyrannical regime in a dystopian future.\", \"genre\": \"action\"},\n",
        "    {\"description\": \"A young witch discovers her powers while attending a magical academy.\", \"genre\": \"fantasy\"},\n",
        "    {\"description\": \"In a world where humans and demons coexist, a forbidden love blossoms.\", \"genre\": \"romance\"},\n",
        "    {\"description\": \"A knight must protect the kingdom from an impending invasion of dark creatures.\", \"genre\": \"fantasy\"},\n",
        "    {\"description\": \"An undercover cop infiltrates a dangerous criminal organization.\", \"genre\": \"action\"},\n",
        "    {\"description\": \"A romance blooms between a pop star and a regular high school student.\", \"genre\": \"romance\"}\n",
        "]\n",
        "\n",
        "# Splitting the data into descriptions and labels\n",
        "descriptions = [item[\"description\"] for item in data]\n",
        "labels = [item[\"genre\"] for item in data]\n",
        "\n",
        "# Preprocess the data\n",
        "# We will use TF-IDF Vectorizer to convert text into numerical features\n",
        "vectorizer = TfidfVectorizer()\n",
        "X = vectorizer.fit_transform(descriptions)\n",
        "\n",
        "# Split the data into training and testing sets\n",
        "X_train, X_test, y_train, y_test = train_test_split(X, labels, test_size=0.3, random_state=42)\n",
        "\n",
        "# Create the model (Decision Tree Classifier)\n",
        "model = DecisionTreeClassifier()\n",
        "model.fit(X_train, y_train)\n",
        "\n",
        "# Predict on the test set\n",
        "y_pred = model.predict(X_test)\n",
        "\n",
        "# Evaluate the model\n",
        "print(\"Classification Report:\\n\", classification_report(y_test, y_pred))"
      ]
    }
  ]
}