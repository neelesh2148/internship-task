{
  "nbformat": 4,
  "nbformat_minor": 0,
  "metadata": {
    "colab": {
      "provenance": []
    },
    "kernelspec": {
      "name": "python3",
      "display_name": "Python 3"
    },
    "language_info": {
      "name": "python"
    }
  },
  "cells": [
    {
      "cell_type": "code",
      "execution_count": 4,
      "metadata": {
        "colab": {
          "base_uri": "https://localhost:8080/"
        },
        "id": "hIFk4d4Q1jx7",
        "outputId": "a6e1f93a-994e-45f3-d7a0-244f26872d4d"
      },
      "outputs": [
        {
          "output_type": "stream",
          "name": "stdout",
          "text": [
            "Requirement already satisfied: textblob in /usr/local/lib/python3.10/dist-packages (0.17.1)\n",
            "Requirement already satisfied: nltk>=3.1 in /usr/local/lib/python3.10/dist-packages (from textblob) (3.8.1)\n",
            "Requirement already satisfied: click in /usr/local/lib/python3.10/dist-packages (from nltk>=3.1->textblob) (8.1.7)\n",
            "Requirement already satisfied: joblib in /usr/local/lib/python3.10/dist-packages (from nltk>=3.1->textblob) (1.4.2)\n",
            "Requirement already satisfied: regex>=2021.8.3 in /usr/local/lib/python3.10/dist-packages (from nltk>=3.1->textblob) (2024.9.11)\n",
            "Requirement already satisfied: tqdm in /usr/local/lib/python3.10/dist-packages (from nltk>=3.1->textblob) (4.66.5)\n",
            "Positive Comments: 8 (100.00%)\n",
            "Negative Comments: 0 (0.00%)\n"
          ]
        }
      ],
      "source": [
        "!pip install textblob\n",
        "from textblob import TextBlob\n",
        "\n",
        "# Sample comments\n",
        "comments = [\n",
        "    \"I love reading both manga and manhwa, they are amazing!\",\n",
        "    \"Manga is way better than manhwa in my opinion.\",\n",
        "    \"I don't really enjoy manhwa, it's not as good as manga.\",\n",
        "    \"Both are great in their own ways, but I prefer manga.\",\n",
        "    \"Manhwa has improved a lot recently, I enjoy it more now.\",\n",
        "    \"Manga is overrated, manhwa has better stories.\",\n",
        "    \"I dislike manhwa, the art style is not as appealing.\",\n",
        "    \"Manhwa is just a copy of manga, nothing special.\"\n",
        "]\n",
        "\n",
        "# Perform sentiment analysis\n",
        "positive_comments = 0\n",
        "negative_comments = 0\n",
        "\n",
        "for comment in comments:\n",
        "    analysis = TextBlob(comment)\n",
        "    # Classify the comment as positive or negative based on polarity\n",
        "    if analysis.sentiment.polarity > 0:\n",
        "        positive_comments += 1\n",
        "    else:\n",
        "        negative_comments += 1\n",
        "\n",
        "# Calculate the percentage of positive and negative comments\n",
        "total_comments = len(comments)\n",
        "positive_percentage = (positive_comments / total_comments) * 100\n",
        "negative_percentage = (negative_comments / total_comments) * 100\n",
        "\n",
        "# Display the results\n",
        "print(f\"Positive Comments: {positive_comments} ({positive_percentage:.2f}%)\")\n",
        "print(f\"Negative Comments: {negative_comments} ({negative_percentage:.2f}%)\")\n"
      ]
    }
  ]
}